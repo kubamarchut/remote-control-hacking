{
 "cells": [
  {
   "attachments": {},
   "cell_type": "markdown",
   "metadata": {},
   "source": [
    "Odczytany zdemudolowany sygnał z Universal Radio Hacker"
   ]
  },
  {
   "cell_type": "code",
   "execution_count": 1,
   "metadata": {},
   "outputs": [],
   "source": [
    "signal = \"1000100010001110100011101000100010001110100011101000111010001110100010001110111010001000111011101\""
   ]
  },
  {
   "cell_type": "code",
   "execution_count": 4,
   "metadata": {},
   "outputs": [
    {
     "name": "stdout",
     "output_type": "stream",
     "text": [
      "97\n",
      "24\n"
     ]
    }
   ],
   "source": [
    "print(len(signal))\n",
    "\n",
    "# bity sygnału na bit\n",
    "n = 4\n",
    "\n",
    "print(int(len(signal[:-1])/n))"
   ]
  },
  {
   "cell_type": "code",
   "execution_count": 6,
   "metadata": {},
   "outputs": [
    {
     "name": "stdout",
     "output_type": "stream",
     "text": [
      "000101000101010100110011\n",
      "1332531\n"
     ]
    }
   ],
   "source": [
    "signal_divided = [signal[i:i+n] for i in range(0, len(signal), n)]\n",
    "\n",
    "# słownik\n",
    "decoding = {\n",
    "    \"1000\" : \"0\",\n",
    "    \"1110\" : \"1\"\n",
    "}\n",
    "\n",
    "received_code = \"\"\n",
    "\n",
    "for sign in signal_divided[:-1]:\n",
    "    received_code += decoding[sign]\n",
    "\n",
    "print(received_code)\n",
    "\n",
    "dec_code = int(received_code, 2)\n",
    "\n",
    "print(dec_code)"
   ]
  }
 ],
 "metadata": {
  "kernelspec": {
   "display_name": "Python 3",
   "language": "python",
   "name": "python3"
  },
  "language_info": {
   "codemirror_mode": {
    "name": "ipython",
    "version": 3
   },
   "file_extension": ".py",
   "mimetype": "text/x-python",
   "name": "python",
   "nbconvert_exporter": "python",
   "pygments_lexer": "ipython3",
   "version": "3.11.2"
  },
  "orig_nbformat": 4,
  "vscode": {
   "interpreter": {
    "hash": "c2419922fff3d547dd44032e9b4e8df629e6ab017c7da1aa16289ea2230291e7"
   }
  }
 },
 "nbformat": 4,
 "nbformat_minor": 2
}
